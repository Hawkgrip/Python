{
  "cells": [
    {
      "cell_type": "markdown",
      "metadata": {
        "id": "view-in-github",
        "colab_type": "text"
      },
      "source": [
        "<a href=\"https://colab.research.google.com/github/Hawkgrip/Python/blob/main/search(BFS%2C_DFS).ipynb\" target=\"_parent\"><img src=\"https://colab.research.google.com/assets/colab-badge.svg\" alt=\"Open In Colab\"/></a>"
      ]
    },
    {
      "cell_type": "markdown",
      "metadata": {
        "id": "-1O3g3SYNQPX"
      },
      "source": [
        "![map.JPG](attachment:map.JPG)"
      ]
    },
    {
      "cell_type": "code",
      "execution_count": null,
      "metadata": {
        "id": "4aNhyGT0NQPv"
      },
      "outputs": [],
      "source": [
        "romanian_map = {\n",
        "    'Arad': {'Zerind':75, 'Timisoara':118,'Sibiu':140},\n",
        "    'Zerind': {'Arad':75, 'Oradea':71},\n",
        "    'Oradea': {'Zerind':71, 'Sibiu': 151},\n",
        "    'Sibiu': {'Arad':140, 'Oradea':151, 'Fagaras':99, 'Rimnicu':80},\n",
        "    'Timisoara': {'Arad': 118, 'Lugoj':111},\n",
        "    'Lugoj': {'Timisoara':111, 'Mehadia':70},\n",
        "    'Mehadia': {'Lugoj': 70, 'Drobeta':75},\n",
        "    'Drobeta': {'Mehadia':75, 'Craiova':120},\n",
        "    'Craiova': {'Drobeta': 120, 'Rimnicu': 146, 'Pitesti': 138},\n",
        "    'Rimnicu': {'Sibiu': 80, 'Craiova': 146, 'Pitesti': 97},\n",
        "    'Fagaras': {'Sibiu':99, 'Bucharest':211},\n",
        "    'Pitesti': {'Rimnicu': 97, 'Craiova':138, 'Bucharest':101},\n",
        "    'Bucharest': {'Fagaras':211, 'Pitesti': 101, 'Giurgiu':90, 'Urziceni':85},\n",
        "    'Giurgiu': {'Bucharest': 90},\n",
        "    'Urziceni': {'Bucharest': 85, 'Vaslui':142, 'Hirsova':98},\n",
        "    'Hirsova': {'Urziceni':98, 'Eforie':86},\n",
        "    'Eforie': {'Hirsova':86},\n",
        "    'Vaslui': {'Iasi': 92, 'Urziceni':142},\n",
        "    'Iasi': {'Vaslui':92, 'Neamt': 87},\n",
        "    'Neamt': {'Iasi':87}\n",
        "}"
      ]
    },
    {
      "cell_type": "code",
      "execution_count": null,
      "metadata": {
        "colab": {
          "base_uri": "https://localhost:8080/"
        },
        "id": "h-iGsBUPNQQg",
        "outputId": "93047b36-256a-44be-e350-1d995884cbc0"
      },
      "outputs": [
        {
          "output_type": "execute_result",
          "data": {
            "text/plain": [
              "{'Arad': 75, 'Oradea': 71}"
            ]
          },
          "metadata": {},
          "execution_count": 2
        }
      ],
      "source": [
        "romanian_map['Zerind']"
      ]
    },
    {
      "cell_type": "code",
      "execution_count": null,
      "metadata": {
        "colab": {
          "base_uri": "https://localhost:8080/"
        },
        "id": "x8Z9GdMvNQQj",
        "outputId": "3e4741d7-e663-47b4-de98-f9fe4f28418c"
      },
      "outputs": [
        {
          "output_type": "execute_result",
          "data": {
            "text/plain": [
              "['Sibiu', 'Zerind', 'Timisoara']"
            ]
          },
          "metadata": {},
          "execution_count": 6
        }
      ],
      "source": [
        "list(romanian_map['Arad'].keys())"
      ]
    },
    {
      "cell_type": "code",
      "execution_count": null,
      "metadata": {
        "colab": {
          "base_uri": "https://localhost:8080/"
        },
        "id": "wJ7uyya9NQQl",
        "outputId": "8b8a26f8-93b8-4b4d-dd26-cf47fd0bfb09"
      },
      "outputs": [
        {
          "output_type": "execute_result",
          "data": {
            "text/plain": [
              "75"
            ]
          },
          "metadata": {},
          "execution_count": 5
        }
      ],
      "source": [
        "romanian_map['Arad']['Zerind']"
      ]
    },
    {
      "cell_type": "code",
      "source": [
        "romanian_map['Zerind']['Arad']"
      ],
      "metadata": {
        "colab": {
          "base_uri": "https://localhost:8080/"
        },
        "id": "ybqAMUbpPnOr",
        "outputId": "c34db260-56fe-4713-97e5-1d64b7d6bc4a"
      },
      "execution_count": null,
      "outputs": [
        {
          "output_type": "execute_result",
          "data": {
            "text/plain": [
              "75"
            ]
          },
          "metadata": {},
          "execution_count": 3
        }
      ]
    },
    {
      "cell_type": "markdown",
      "metadata": {
        "id": "rUSyZS74NQQs"
      },
      "source": [
        "# BFS"
      ]
    },
    {
      "cell_type": "markdown",
      "source": [
        "<p style=\"text-align: justify\">Reached is a set of states which has been generated, because once we’ve reached a state, Early goal test we can never find a better path to the state. That also means we can do an early goal test, Late goal test checking whether a node is a solution as soon as it is generated, rather than the late goal test that best-first search uses, waiting until a node is popped off the queue.</p>"
      ],
      "metadata": {
        "id": "EVr_9nMTeiR_"
      }
    },
    {
      "cell_type": "code",
      "execution_count": null,
      "metadata": {
        "id": "L3961YcCNQQu"
      },
      "outputs": [],
      "source": [
        "def bfs(start, goal, G):\n",
        "    expanded= [] # to store the order of nodes expanded\n",
        "    frontier = [{'Name':start,'Path cost':0, 'Path':[start]}]\n",
        "\n",
        "    while len(frontier) > 0:\n",
        "        print('***Frontier', end=': ')\n",
        "        for node in frontier: print(node['Name'], end = ' - ')\n",
        "        unode  = frontier.pop(0)     # selceting the node to expand\n",
        "        u = unode['Name']\n",
        "\n",
        "        expanded.append(u)\n",
        "        print('***')\n",
        "        print(\"Expanding: \"+u)\n",
        "\n",
        "        # expand u\n",
        "        for v in G[u].keys():# ['Sibiu', 'Zerind', 'Timisoara']\n",
        "            if v not in expanded: # process if v is not expanded yet\n",
        "                print(v+\" generated.\")\n",
        "                cost = unode['Path cost'] + G[u][v]\n",
        "                path =  unode['Path']+ [v]\n",
        "                vnode = {'Name': v,'Path cost': cost,'Path': path}\n",
        "                # goal test\n",
        "                if v == goal:\n",
        "                    print(expanded)\n",
        "                    return vnode # breaking from while\n",
        "                frontier.append(vnode)# store the generated node in the frontier\n",
        "\n",
        "    print('Failed')"
      ]
    },
    {
      "cell_type": "code",
      "execution_count": null,
      "metadata": {
        "colab": {
          "base_uri": "https://localhost:8080/"
        },
        "id": "OX3FUTH9NQQy",
        "outputId": "505b7811-ee23-4731-d133-530776086212"
      },
      "outputs": [
        {
          "output_type": "stream",
          "name": "stdout",
          "text": [
            "***Frontier: Arad - ***\n",
            "Expanding: Arad\n",
            "Sibiu generated.\n",
            "Zerind generated.\n",
            "Timisoara generated.\n",
            "***Frontier: Sibiu - Zerind - Timisoara - ***\n",
            "Expanding: Sibiu\n",
            "Oradea generated.\n",
            "Fagaras generated.\n",
            "Rimnicu generated.\n",
            "***Frontier: Zerind - Timisoara - Oradea - Fagaras - Rimnicu - ***\n",
            "Expanding: Zerind\n",
            "Oradea generated.\n",
            "***Frontier: Timisoara - Oradea - Fagaras - Rimnicu - Oradea - ***\n",
            "Expanding: Timisoara\n",
            "Lugoj generated.\n",
            "***Frontier: Oradea - Fagaras - Rimnicu - Oradea - Lugoj - ***\n",
            "Expanding: Oradea\n",
            "***Frontier: Fagaras - Rimnicu - Oradea - Lugoj - ***\n",
            "Expanding: Fagaras\n",
            "Bucharest generated.\n",
            "['Arad', 'Sibiu', 'Zerind', 'Timisoara', 'Oradea', 'Fagaras']\n"
          ]
        },
        {
          "output_type": "execute_result",
          "data": {
            "text/plain": [
              "{'Name': 'Bucharest',\n",
              " 'Path cost': 450,\n",
              " 'Path': ['Arad', 'Sibiu', 'Fagaras', 'Bucharest']}"
            ]
          },
          "metadata": {},
          "execution_count": 18
        }
      ],
      "source": [
        "bfs('Arad', 'Bucharest', romanian_map) # change the soure and destination"
      ]
    },
    {
      "cell_type": "markdown",
      "metadata": {
        "id": "MA8md-K-NQQ1"
      },
      "source": [
        "# DFS\n",
        "Implement DFS using stack,\n",
        "Implement stack using list (append and pop)"
      ]
    },
    {
      "cell_type": "code",
      "execution_count": null,
      "metadata": {
        "id": "IMjLNkxdNQQ2"
      },
      "outputs": [],
      "source": [
        "def dfs(start, goal, G):\n",
        "    expanded= [] # to store the order of nodes expanded\n",
        "    frontier = [{'Name':start,'Path cost':0, 'Path':[start]}]\n",
        "\n",
        "    while len(frontier) > 0:\n",
        "        print('***Frontier', end=': ')\n",
        "        for node in frontier: print(node['Name'], end = ' - ')\n",
        "        unode  = frontier.pop(-1)     # selceting the node to expand\n",
        "        u = unode['Name']\n",
        "\n",
        "        expanded.append(u)\n",
        "        print('***')\n",
        "        print(\"Expanding: \"+u)\n",
        "\n",
        "        if u == goal:\n",
        "                    print(expanded)\n",
        "                    return vnode # breaking from while\n",
        "\n",
        "        # expand u\n",
        "        for v in G[u].keys():# ['Sibiu', 'Zerind', 'Timisoara']\n",
        "            if v not in expanded: # process if v is not expanded yet\n",
        "                print(v+\" generated.\")\n",
        "                cost = unode['Path cost'] + G[u][v]\n",
        "                path =  unode['Path']+ [v]\n",
        "                vnode = {'Name': v,'Path cost': cost,'Path': path}\n",
        "                # goal test\n",
        "\n",
        "                frontier.append(vnode)# store the generated node in the frontier\n",
        "\n",
        "    print('Failed')"
      ]
    },
    {
      "cell_type": "code",
      "source": [
        "dfs('Arad', 'Bucharest', romanian_map) # change the soure and destination"
      ],
      "metadata": {
        "colab": {
          "base_uri": "https://localhost:8080/"
        },
        "id": "4voAcK6pEV80",
        "outputId": "f3822631-dfd6-47fb-cc14-59579e82d636"
      },
      "execution_count": null,
      "outputs": [
        {
          "output_type": "stream",
          "name": "stdout",
          "text": [
            "***Frontier: Arad - ***\n",
            "Expanding: Arad\n",
            "Zerind generated.\n",
            "Timisoara generated.\n",
            "Sibiu generated.\n",
            "***Frontier: Zerind - Timisoara - Sibiu - ***\n",
            "Expanding: Sibiu\n",
            "Oradea generated.\n",
            "Fagaras generated.\n",
            "Rimnicu generated.\n",
            "***Frontier: Zerind - Timisoara - Oradea - Fagaras - Rimnicu - ***\n",
            "Expanding: Rimnicu\n",
            "Craiova generated.\n",
            "Pitesti generated.\n",
            "***Frontier: Zerind - Timisoara - Oradea - Fagaras - Craiova - Pitesti - ***\n",
            "Expanding: Pitesti\n",
            "Craiova generated.\n",
            "Bucharest generated.\n",
            "***Frontier: Zerind - Timisoara - Oradea - Fagaras - Craiova - Craiova - Bucharest - ***\n",
            "Expanding: Bucharest\n",
            "['Arad', 'Sibiu', 'Rimnicu', 'Pitesti', 'Bucharest']\n"
          ]
        },
        {
          "output_type": "execute_result",
          "data": {
            "text/plain": [
              "{'Name': 'Bucharest',\n",
              " 'Path cost': 418,\n",
              " 'Path': ['Arad', 'Sibiu', 'Rimnicu', 'Pitesti', 'Bucharest']}"
            ]
          },
          "metadata": {},
          "execution_count": 65
        }
      ]
    }
  ],
  "metadata": {
    "kernelspec": {
      "display_name": "Python 3",
      "language": "python",
      "name": "python3"
    },
    "language_info": {
      "codemirror_mode": {
        "name": "ipython",
        "version": 3
      },
      "file_extension": ".py",
      "mimetype": "text/x-python",
      "name": "python",
      "nbconvert_exporter": "python",
      "pygments_lexer": "ipython3",
      "version": "3.8.8"
    },
    "colab": {
      "provenance": [],
      "include_colab_link": true
    }
  },
  "nbformat": 4,
  "nbformat_minor": 0
}