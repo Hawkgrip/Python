{
  "cells": [
    {
      "cell_type": "markdown",
      "metadata": {
        "id": "view-in-github",
        "colab_type": "text"
      },
      "source": [
        "<a href=\"https://colab.research.google.com/github/Hawkgrip/Python/blob/main/Agents.ipynb\" target=\"_parent\"><img src=\"https://colab.research.google.com/assets/colab-badge.svg\" alt=\"Open In Colab\"/></a>"
      ]
    },
    {
      "cell_type": "markdown",
      "metadata": {
        "id": "reej2tDWSyeX"
      },
      "source": [
        "Vaccum Cleaning Agent with locations A and B"
      ]
    },
    {
      "cell_type": "markdown",
      "metadata": {
        "id": "OmRycx4GSyeY"
      },
      "source": [
        "![vc.png](attachment:vc.png)"
      ]
    },
    {
      "cell_type": "markdown",
      "metadata": {
        "id": "JB_wyml9WUg4"
      },
      "source": [
        "# Some important things:\n",
        "\n",
        "1. Agent Description: The aim of the agent .....\n",
        "2. List the sensors: Location, Status\n",
        "3. Sensors' values:\n",
        ">Location -> {A, B}, Status -> {Dirty, Clean}\n",
        "4. List the actions: Suck, Right, Left\n",
        "5. Agent function: **perception --> action**\n",
        "> [A, Clean] --> Right <br>\n",
        "> [A, Dirty] --> Suck<br>\n",
        "> [B, Clean] --> Left<br>\n",
        "> [B, Dirty] --> Suck<br>\n",
        "\n"
      ]
    },
    {
      "cell_type": "markdown",
      "metadata": {
        "id": "jKEeqHbzSyeQ"
      },
      "source": [
        "# Table driven agent"
      ]
    },
    {
      "cell_type": "code",
      "execution_count": null,
      "metadata": {
        "id": "sdVAkIfVfPLl"
      },
      "outputs": [],
      "source": [
        "table={('A','Clean'):'Right',\n",
        "       ('A','Dirty'):'Suck',\n",
        "       ('B','Clean'):'Left',\n",
        "       ('B','Dirty'):'Suck'}"
      ]
    },
    {
      "cell_type": "code",
      "execution_count": null,
      "metadata": {
        "id": "-66u3QD8fbIj"
      },
      "outputs": [],
      "source": [
        "percepts=[]  # to store percept sequence\n",
        "def table_driven_agent(percept):\n",
        "    print('Perception Received: '+ str(percept))\n",
        "    percepts.append(percept) # updating percept history\n",
        "    action = lookup(percept,table) # searching for action\n",
        "    return action\n",
        "\n",
        "def lookup(p,t):\n",
        "    return t[p]"
      ]
    },
    {
      "cell_type": "code",
      "execution_count": null,
      "metadata": {
        "colab": {
          "background_save": true,
          "base_uri": "https://localhost:8080/"
        },
        "id": "oYvL-4cuSyeZ",
        "outputId": "bc2f9d7e-49c7-41f8-9601-20d2747a22de"
      },
      "outputs": [
        {
          "name": "stdout",
          "output_type": "stream",
          "text": [
            "Perception Received: ('B', 'Dirty')\n",
            "Action Performed: Suck\n"
          ]
        }
      ],
      "source": [
        " # lets simulate the agent\n",
        "import random\n",
        "Location = random.choice(['A','B'])\n",
        "Condition = random.choice(['Clean','Dirty'])\n",
        "\n",
        "while True: # to perceieve environment repeatedly\n",
        "    action = table_driven_agent((Location, Condition))\n",
        "    print('Action Performed: '+ action)\n",
        "    cmd = input('Get Perception (yes/no): ')\n",
        "    if(cmd != 'yes'): break\n",
        "    if action == 'Right':\n",
        "        Location = 'B'\n",
        "        Condition = random.choice(['Clean','Dirty'])\n",
        "    elif action == 'Left':\n",
        "        Location = 'A'\n",
        "        Condition = random.choice(['Clean','Dirty'])\n",
        "    else:\n",
        "        Condition = 'Clean'"
      ]
    },
    {
      "cell_type": "markdown",
      "metadata": {
        "id": "yfOFRdsmSyec"
      },
      "source": [
        "# Simple reflex agent"
      ]
    },
    {
      "cell_type": "code",
      "execution_count": null,
      "metadata": {
        "id": "WRQ3RsmchDht"
      },
      "outputs": [],
      "source": [
        "def simple_reflex_agent(percept):\n",
        "    print('Perception Received: '+ str(percept))\n",
        "    location = percept[0]\n",
        "    status = percept[1]\n",
        "    if status =='Dirty':\n",
        "        action = 'Suck'\n",
        "    elif location == 'A':\n",
        "        action = 'Right'\n",
        "    elif location =='B':\n",
        "        action = 'Left'\n",
        "    return action"
      ]
    },
    {
      "cell_type": "code",
      "execution_count": null,
      "metadata": {
        "colab": {
          "base_uri": "https://localhost:8080/"
        },
        "id": "GfEzFJTVSyed",
        "outputId": "415be48e-b157-4284-d834-c85389fb83e2"
      },
      "outputs": [
        {
          "name": "stdout",
          "output_type": "stream",
          "text": [
            "Perception Received: ('B', 'Dirty')\n",
            "Action Performed: Suck\n",
            "Get Perception (yes/no): yes\n",
            "Perception Received: ('B', 'Clean')\n",
            "Action Performed: Left\n",
            "Get Perception (yes/no): no\n"
          ]
        }
      ],
      "source": [
        "import random\n",
        "Location = random.choice(['A','B'])\n",
        "Condition = random.choice(['Clean','Dirty'])\n",
        "\n",
        "while True:\n",
        "    action= simple_reflex_agent((Location,Condition))\n",
        "    print('Action Performed: '+ action)\n",
        "    cmd = input('Get Perception (yes/no): ')\n",
        "    if(cmd == 'no' or cmd != 'yes'): break\n",
        "    if action == 'Right':\n",
        "        Location = 'B'\n",
        "        Condition = random.choice(['Clean','Dirty'])\n",
        "    elif action== 'Left':\n",
        "        Location = 'A'\n",
        "        Condition = random.choice(['Clean','Dirty'])\n",
        "    else:\n",
        "        Condition = 'Clean'"
      ]
    },
    {
      "cell_type": "markdown",
      "metadata": {
        "id": "wA7yF32tSyee"
      },
      "source": [
        "# Model based agent"
      ]
    },
    {
      "cell_type": "code",
      "execution_count": null,
      "metadata": {
        "id": "KGvoakXKiaqT"
      },
      "outputs": [],
      "source": [
        "model = {'A':'Unknown', 'B':'Unknown'}\n",
        "world_state = 'Bad'\n",
        "action = 'Unknown'\n",
        "\n",
        "def update_state(action, percept, model):\n",
        "    location = percept[0]\n",
        "    status = percept[1]\n",
        "    model[location] = status #udate the model based on current perception\n",
        "\n",
        "    global world_state\n",
        "    #udate the model based on action\n",
        "    if action == 'Suck':\n",
        "        model[location]='Clean'\n",
        "    # model checking to update world state\n",
        "    if model['A']=='Clean' and model['B']=='Clean':\n",
        "        world_state = 'Good'\n",
        "    else:\n",
        "        world_state = 'Bad'\n",
        "    return world_state\n",
        "\n",
        "\n",
        "def model_based_reflex_agent(percept):\n",
        "    location = percept[0]\n",
        "    status = percept[1]\n",
        "\n",
        "    global world_state,action,model\n",
        "\n",
        "    if world_state == 'Good':\n",
        "        action = 'Pause'\n",
        "        return action\n",
        "    elif status == 'Dirty':\n",
        "        action = 'Suck'\n",
        "    elif location == 'A':\n",
        "        action = 'Right'\n",
        "    elif location == 'B':\n",
        "        action = 'Left'\n",
        "    world_state = update_state(action, percept, model)\n",
        "    print('Perception: '+str(percept))\n",
        "    print('Action Performed: '+ action)\n",
        "    print('Model: '+str(model))\n",
        "    print('State: '+str(world_state))\n",
        "    return action"
      ]
    },
    {
      "cell_type": "code",
      "execution_count": null,
      "metadata": {
        "colab": {
          "base_uri": "https://localhost:8080/"
        },
        "id": "djwVDNKgSyef",
        "outputId": "59b22973-f483-44de-a587-aca94d82be66"
      },
      "outputs": [
        {
          "name": "stdout",
          "output_type": "stream",
          "text": [
            "*****\n",
            "Perception: ('A', 'Dirty')\n",
            "Action Performed: Suck\n",
            "Model: {'A': 'Clean', 'B': 'Unknown'}\n",
            "State: Bad\n",
            "*****\n",
            "Perception: ('A', 'Clean')\n",
            "Action Performed: Right\n",
            "Model: {'A': 'Clean', 'B': 'Unknown'}\n",
            "State: Bad\n",
            "*****\n",
            "Perception: ('B', 'Clean')\n",
            "Action Performed: Left\n",
            "Model: {'A': 'Clean', 'B': 'Clean'}\n",
            "State: Good\n",
            "*****\n",
            "Stopped. Do restart? (yes/no): no\n"
          ]
        }
      ],
      "source": [
        "import random\n",
        "Location = random.choice(['A','B'])\n",
        "Condition= random.choice(['Clean','Dirty'])\n",
        "\n",
        "while True:\n",
        "    print('*****')\n",
        "    action = model_based_reflex_agent((Location,Condition))\n",
        "    if action == 'Right':\n",
        "        Location = 'B'\n",
        "        Condition = random.choice(['Clean','Dirty'])\n",
        "    elif action == 'Left':\n",
        "        Location = 'A'\n",
        "        Condition = random.choice(['Clean','Dirty'])\n",
        "    elif action == 'Suck':\n",
        "        Condition = 'Clean'\n",
        "    elif action == 'Pause':\n",
        "        cmd = input('Stopped. Do restart? (yes/no): ')\n",
        "        if(cmd == 'no' or cmd != 'yes'): break\n",
        "        Location = random.choice(['A','B'])\n",
        "        Condition = random.choice(['Clean','Dirty'])\n",
        "        model = {'A':'Unknown', 'B':'Unknown'}\n",
        "        world_state = 'Bad'\n",
        "        action = 'Unknown'"
      ]
    },
    {
      "cell_type": "markdown",
      "metadata": {
        "id": "SduRNewjSyeg"
      },
      "source": [
        "# **Exercise 1**"
      ]
    },
    {
      "cell_type": "markdown",
      "metadata": {
        "id": "XQfOSnycSyeh"
      },
      "source": [
        "Implement diffierent types of agent implementation to do a certain task of your choice.\n",
        "1. Table Driven Agent\n",
        "2. Simple Reflex Agent\n",
        "\n",
        "<p><b>Before implementation describe the following:</b></p>\n",
        "\n",
        "1. Agent Description: The aim of the agent .....\n",
        "2. List the sensors:\n",
        "3. Sensors' values:\n",
        "3. List the actions:\n",
        "4. Agent function: perception --> action"
      ]
    },
    {
      "cell_type": "markdown",
      "metadata": {
        "id": "9s44XzAtSyei"
      },
      "source": []
    },
    {
      "cell_type": "code",
      "execution_count": null,
      "metadata": {
        "id": "uKEfWWEgSyei",
        "colab": {
          "base_uri": "https://localhost:8080/"
        },
        "outputId": "45847f83-a236-4133-904c-037c1d282924"
      },
      "outputs": [
        {
          "name": "stdout",
          "output_type": "stream",
          "text": [
            "Perception Received: ('A', 'LaneEmpty', 'Obstacle')\n",
            "Action Performed: Right\n",
            "Get Perception (yes/no): yes\n",
            "Perception Received: ('B', 'LaneEmpty', 'Obstacle')\n",
            "Action Performed: Left\n",
            "Get Perception (yes/no): no\n"
          ]
        }
      ],
      "source": [
        "#1 Agent Description: The aim of the agent is to avoid obstacles while in driving\n",
        "#2 List of Sensors: Lane, Centre Sensor, Side sensor\n",
        "#3 Sensor Values {(A,B),(LaneEmpty,Obstacle),(LaneEmpty,Obstacle)}\n",
        "#4 List of Actions: {left,right,stuck}\n",
        "#5 ('A', 'LaneEmpty', 'LaneEmpty'): 'Right',\n",
        " #   ('A', 'Obstacle', 'LaneEmpty'): 'Right',\n",
        "  #  ('A', 'LaneEmpty', 'Obstacle'): 'Right',\n",
        "  #  ('A', 'Obstacle', 'Obstacle'): 'Stuck',\n",
        "  #  ('B', 'LaneEmpty', 'LaneEmpty'): 'Left',\n",
        "  #  ('B', 'LaneEmpty', 'Obstacle'): 'Left',\n",
        "  #  ('B', 'Obstacle', 'LaneEmpty'): 'Left',\n",
        "  #  ('B', 'Obstacle', 'Obstacle'): 'Stuck',\n",
        "\n",
        "\n",
        "\n",
        "table = {\n",
        "\n",
        "    ('A', 'LaneEmpty', 'LaneEmpty'): 'Right',\n",
        "    ('A', 'Obstacle', 'LaneEmpty'): 'Right',\n",
        "    ('A', 'LaneEmpty', 'Obstacle'): 'Right',\n",
        "    ('A', 'Obstacle', 'Obstacle'): 'Stuck',\n",
        "    ('B', 'LaneEmpty', 'LaneEmpty'): 'Left',\n",
        "    ('B', 'LaneEmpty', 'Obstacle'): 'Left',\n",
        "    ('B', 'Obstacle', 'LaneEmpty'): 'Left',\n",
        "    ('B', 'Obstacle', 'Obstacle'): 'Stuck',\n",
        "\n",
        "}\n",
        "\n",
        "\n",
        "\n",
        "percepts = []  # to store percept sequence\n",
        "\n",
        "\n",
        "\n",
        "def table_driven_agent(percept):\n",
        "\n",
        "    print('Perception Received: ' + str(percept))\n",
        "\n",
        "    percepts.append(percept)  # updating percept history\n",
        "\n",
        "    action = lookup(percept, table)  # searching for action\n",
        "\n",
        "    return action\n",
        "\n",
        "\n",
        "\n",
        "def lookup(p, t):\n",
        "\n",
        "    return t[p]\n",
        "\n",
        "\n",
        "\n",
        "# Simulate the agent\n",
        "\n",
        "import random\n",
        "\n",
        "\n",
        "\n",
        "Location = random.choice(['A', 'B'])\n",
        "\n",
        "LaneStatus = random.choice(['LaneEmpty', 'Obstacle'])\n",
        "\n",
        "AdjacentLaneStatus = random.choice(['LaneEmpty', 'Obstacle'])\n",
        "\n",
        "\n",
        "\n",
        "while True:  # to perceive the environment repeatedly\n",
        "\n",
        "    action = table_driven_agent((Location, LaneStatus, AdjacentLaneStatus))\n",
        "\n",
        "    print('Action Performed: ' + action)\n",
        "\n",
        "    cmd = input('Get Perception (yes/no): ')\n",
        "\n",
        "    if cmd != 'yes':\n",
        "\n",
        "        break\n",
        "\n",
        "    if action == 'Right':\n",
        "\n",
        "        Location = 'B'\n",
        "\n",
        "        LaneStatus = random.choice(['LaneEmpty', 'Obstacle'])\n",
        "\n",
        "        AdjacentLaneStatus = random.choice(['LaneEmpty', 'Obstacle'])\n",
        "\n",
        "    elif action == 'Left':\n",
        "\n",
        "        Location = 'A'\n",
        "\n",
        "        LaneStatus = random.choice(['LaneEmpty', 'Obstacle'])\n",
        "\n",
        "        AdjacentLaneStatus = random.choice(['LaneEmpty', 'Obstacle'])\n",
        "\n",
        "    elif action == 'Stuck':\n",
        "\n",
        "        print('Car is stuck between obstacles. Journey ends here')\n",
        "\n",
        "        break\n",
        "\n"
      ]
    }
  ],
  "metadata": {
    "colab": {
      "provenance": [],
      "include_colab_link": true
    },
    "kernelspec": {
      "display_name": "Python 3",
      "language": "python",
      "name": "python3"
    },
    "language_info": {
      "codemirror_mode": {
        "name": "ipython",
        "version": 3
      },
      "file_extension": ".py",
      "mimetype": "text/x-python",
      "name": "python",
      "nbconvert_exporter": "python",
      "pygments_lexer": "ipython3",
      "version": "3.8.8"
    }
  },
  "nbformat": 4,
  "nbformat_minor": 0
}