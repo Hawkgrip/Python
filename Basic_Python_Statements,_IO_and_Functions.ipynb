{
  "cells": [
    {
      "cell_type": "markdown",
      "metadata": {
        "id": "view-in-github",
        "colab_type": "text"
      },
      "source": [
        "<a href=\"https://colab.research.google.com/github/Hawkgrip/Python/blob/main/Basic_Python_Statements%2C_IO_and_Functions.ipynb\" target=\"_parent\"><img src=\"https://colab.research.google.com/assets/colab-badge.svg\" alt=\"Open In Colab\"/></a>"
      ]
    },
    {
      "cell_type": "markdown",
      "metadata": {
        "id": "gVdgbvf19OA9"
      },
      "source": [
        "# About this notebook\n",
        "<p style=\"text-align: justify\"> Here, you will learn the basic statements of python and function. Some codes will be given for demonstration. Some other codes, you will do as excercise.</p>\n",
        "\n",
        "## Submission\n",
        "<p style=\"text-align: justify\">After completing the practice codes and exercises, submit the notebook (.ipynb file) to corresponding Intern through Microsoft Teams</p>\n",
        "<p> 1.<b> You must submit your own code</b>. If similarity found negative marking will be given.</p>\n",
        "<p> 2. Modify the file name writing your ID at the beigining of the file name.</p>\n",
        "<p> 3. Other file format will not be accepted.</p>"
      ]
    },
    {
      "cell_type": "markdown",
      "metadata": {
        "id": "sVSQpyqT9OBH"
      },
      "source": [
        "# User Input"
      ]
    },
    {
      "cell_type": "code",
      "execution_count": null,
      "metadata": {
        "colab": {
          "base_uri": "https://localhost:8080/"
        },
        "id": "JPTt3qbo9OBI",
        "outputId": "ef4228bd-e98c-437d-eb36-3fe25b425140"
      },
      "outputs": [
        {
          "output_type": "stream",
          "name": "stdout",
          "text": [
            "32\n"
          ]
        }
      ],
      "source": [
        "a = 32\n",
        "print(a)"
      ]
    },
    {
      "cell_type": "code",
      "source": [
        "inpt = input()\n",
        "print(inpt)"
      ],
      "metadata": {
        "id": "YCouIBhhorBO",
        "colab": {
          "base_uri": "https://localhost:8080/"
        },
        "outputId": "53990927-0566-4abc-8617-1701cfb9e578"
      },
      "execution_count": null,
      "outputs": [
        {
          "output_type": "stream",
          "name": "stdout",
          "text": [
            "Hello\n",
            "Hello\n"
          ]
        }
      ]
    },
    {
      "cell_type": "code",
      "execution_count": null,
      "metadata": {
        "colab": {
          "base_uri": "https://localhost:8080/"
        },
        "id": "WgnNFESa9OBL",
        "outputId": "aea8521b-cc48-4e20-eaf2-d2d054eb9d52"
      },
      "outputs": [
        {
          "output_type": "stream",
          "name": "stdout",
          "text": [
            "Enter a desired text: Hello World\n",
            "The entered text is Hello World\n",
            "<class 'str'>\n"
          ]
        }
      ],
      "source": [
        "c = input('Enter a desired text: ') # always returns string\n",
        "print('The entered text is '+ c)\n",
        "print(type(c))"
      ]
    },
    {
      "cell_type": "code",
      "execution_count": null,
      "metadata": {
        "id": "qGfffqzZ9OBM",
        "colab": {
          "base_uri": "https://localhost:8080/"
        },
        "outputId": "3fa8a5e2-0f49-47fa-bdec-bc1ae22f4c61"
      },
      "outputs": [
        {
          "output_type": "stream",
          "name": "stdout",
          "text": [
            "Insert a digit: 5\n",
            "The result is 53\n",
            "<class 'int'>\n"
          ]
        }
      ],
      "source": [
        "cell = int(input('Insert a digit: ')) # returns string but converted to int\n",
        "print('The result is', a+21)\n",
        "print(type(cell))"
      ]
    },
    {
      "cell_type": "code",
      "source": [
        "while True:\n",
        "  a = input('Enter your Birth Year: ')\n",
        "  if a.isdigit():\n",
        "    print('You are ' + str(2023-int(a)) + ' years old')\n",
        "    print(2023-int(a))\n",
        "    break\n",
        "  print('WRONG INPUT')"
      ],
      "metadata": {
        "id": "LhsfvXa7lAk8",
        "colab": {
          "base_uri": "https://localhost:8080/"
        },
        "outputId": "05ee9e81-8962-4a62-8f34-8a757c6006c8"
      },
      "execution_count": null,
      "outputs": [
        {
          "output_type": "stream",
          "name": "stdout",
          "text": [
            "Enter your Birth Year: 1999\n",
            "You are 24 years old\n",
            "24\n"
          ]
        }
      ]
    },
    {
      "cell_type": "markdown",
      "metadata": {
        "id": "yd5uai6a9OBO"
      },
      "source": [
        "# if statement\n",
        "There can be zero or more elif parts, and the else part is optional. The keyword ‘elif’ is short for ‘else if’"
      ]
    },
    {
      "cell_type": "code",
      "execution_count": null,
      "metadata": {
        "colab": {
          "base_uri": "https://localhost:8080/"
        },
        "id": "bkNWtGEA9OBP",
        "outputId": "d8b4081b-cdf8-4a99-de8f-443849f5a85f"
      },
      "outputs": [
        {
          "output_type": "stream",
          "name": "stdout",
          "text": [
            "bad\n",
            "not okay\n"
          ]
        }
      ],
      "source": [
        "# indent\n",
        "i = 2\n",
        "if i > 5: # () not required, {} not required\n",
        "  print('All Good')\n",
        "  print('fine')\n",
        "else:\n",
        "  print('bad, naada')\n",
        "  print('not okay') # will be executed in each run"
      ]
    },
    {
      "cell_type": "code",
      "execution_count": null,
      "metadata": {
        "colab": {
          "base_uri": "https://localhost:8080/"
        },
        "id": "4-2lHhfa9OBQ",
        "outputId": "018ff5b7-1628-447d-fa0b-5b50b06e8817"
      },
      "outputs": [
        {
          "output_type": "stream",
          "name": "stdout",
          "text": [
            "Please enter an integer: -2\n",
            "Negative changed to zero\n"
          ]
        }
      ],
      "source": [
        "x = int(input(\"Please enter an integer: \"))\n",
        "if x < 0:\n",
        "    x = 0\n",
        "    print('Negative changed to zero')\n",
        "elif x == 0:\n",
        "    print('Zero')\n",
        "elif x == 1:\n",
        "    print('Single')\n",
        "else:\n",
        "    print('More')"
      ]
    },
    {
      "cell_type": "markdown",
      "metadata": {
        "id": "CeTgipag9OBR"
      },
      "source": [
        "<b>Exercise 1:</b> Input a course mark (0-100) from user and use the <b>if</b> statement to print corresponding grade."
      ]
    },
    {
      "cell_type": "code",
      "execution_count": null,
      "metadata": {
        "id": "75nu_spY9OBS",
        "colab": {
          "base_uri": "https://localhost:8080/"
        },
        "outputId": "e9694b76-f587-4c58-8c8d-5ca1a75d0d0c"
      },
      "outputs": [
        {
          "output_type": "stream",
          "name": "stdout",
          "text": [
            "Please enter an integer: 55\n",
            "Your grade is D,  Retake your Exam\n"
          ]
        }
      ],
      "source": [
        "# code here\n",
        "\n",
        "Mark = int(input(\"Please enter an integer: \"))\n",
        "if Mark < 0:\n",
        "    Mark = 0\n",
        "    print('Failed to pass')\n",
        "elif Mark == 0:\n",
        "    print('Zero')\n",
        "elif Mark < 50:\n",
        "    print('Your grade is E, Retake your Exam')\n",
        "elif Mark < 60:\n",
        "    print('Your grade is D,  Retake your Exam')\n",
        "elif Mark > 70:\n",
        "    print('Your grade is C')\n",
        "elif Mark > 80:\n",
        "    print('Your grade is B')\n",
        "elif Mark > 90:\n",
        "    print('Your grade is A, excellent result')\n",
        "elif Mark > 95:\n",
        "  print('Distinction')"
      ]
    },
    {
      "cell_type": "markdown",
      "metadata": {
        "id": "BLPDtgWr9OBT"
      },
      "source": [
        "# for statement\n",
        "<p style=\"text-align: justify\">The for statement in Python differs a bit from what you may be used to in C or C++. Rather than always giving the user the ability to define both the iteration step and halting condition, Python’s for statement iterates over the items of any sequence (a list or a string), in the order that they appear in the sequence.</p>"
      ]
    },
    {
      "cell_type": "code",
      "execution_count": null,
      "metadata": {
        "colab": {
          "base_uri": "https://localhost:8080/"
        },
        "id": "k6eiUKVF9OBU",
        "outputId": "3fce9c8f-aa29-4c3a-eefb-866da7be4663"
      },
      "outputs": [
        {
          "output_type": "stream",
          "name": "stdout",
          "text": [
            "the word is: cat\n",
            "the word is: window\n",
            "the word is: dhaka\n",
            "the word is: jack\n",
            "the word is: elephant\n",
            "the word is: truck\n"
          ]
        }
      ],
      "source": [
        "# Measure some strings:\n",
        "words = ['cat', 'window', 'dhaka', 'jack','elephant','truck']\n",
        "for t in words:\n",
        "    print('the word is:',t)"
      ]
    },
    {
      "cell_type": "code",
      "source": [
        "words = ['cat', 'window', 'dhaka', 'jack','dog']\n",
        "for alpha in range(len(words)):\n",
        "    print('the word is:',words[alpha])"
      ],
      "metadata": {
        "colab": {
          "base_uri": "https://localhost:8080/"
        },
        "id": "NdM3WOnovXx2",
        "outputId": "36e32843-14e5-4fe1-9ca5-3bb4f18de260"
      },
      "execution_count": null,
      "outputs": [
        {
          "output_type": "stream",
          "name": "stdout",
          "text": [
            "the word is: cat\n",
            "the word is: window\n",
            "the word is: dhaka\n",
            "the word is: jack\n",
            "the word is: dog\n"
          ]
        }
      ]
    },
    {
      "cell_type": "code",
      "execution_count": null,
      "metadata": {
        "colab": {
          "base_uri": "https://localhost:8080/"
        },
        "id": "gxRxRU9B9OBW",
        "outputId": "3d309b82-4a06-48d0-c29f-edede64d5002"
      },
      "outputs": [
        {
          "output_type": "stream",
          "name": "stdout",
          "text": [
            "1\n",
            "42\n",
            "4\n",
            "-1\n",
            "62\n"
          ]
        }
      ],
      "source": [
        "digits = [10, 51, 13, 8,71]\n",
        "\n",
        "for numb in digits:\n",
        "    print(numb-9)"
      ]
    },
    {
      "cell_type": "markdown",
      "metadata": {
        "id": "OnIIzz_29OBX"
      },
      "source": [
        "### The range() Function\n",
        "If you do need to iterate over a sequence of numbers, the built-in function range() comes in handy. It generates arithmetic progressions:"
      ]
    },
    {
      "cell_type": "code",
      "execution_count": null,
      "metadata": {
        "colab": {
          "base_uri": "https://localhost:8080/"
        },
        "id": "eIvd_Nhy9OBY",
        "outputId": "a9b25a33-6f33-426b-ee66-a459b34cd985"
      },
      "outputs": [
        {
          "output_type": "stream",
          "name": "stdout",
          "text": [
            "0\n",
            "5\n",
            "10\n",
            "15\n",
            "20\n",
            "25\n",
            "30\n",
            "35\n",
            "40\n",
            "45\n",
            "50\n",
            "55\n",
            "60\n",
            "65\n",
            "70\n",
            "75\n",
            "80\n",
            "85\n",
            "90\n",
            "95\n"
          ]
        }
      ],
      "source": [
        "# repeated for 0 to 4\n",
        "# for(i=0;i<5;i++)\n",
        "for width in range(0,100,5):\n",
        "    print(width)"
      ]
    },
    {
      "cell_type": "markdown",
      "metadata": {
        "id": "Tdu8trNj9OBZ"
      },
      "source": [
        "<p style=\"text-align: justify\">The given end point is never part of the generated sequence; range(10) generates 10 values, the legal indices for items of a sequence of length 10. It is possible to let the range start at another number, or to specify a different increment (even negative; sometimes this is called the ‘step’):</p>"
      ]
    },
    {
      "cell_type": "code",
      "execution_count": null,
      "metadata": {
        "colab": {
          "base_uri": "https://localhost:8080/"
        },
        "id": "0l562ow69OBZ",
        "outputId": "860b0703-f726-4869-c193-20a9f972d8ca"
      },
      "outputs": [
        {
          "output_type": "execute_result",
          "data": {
            "text/plain": [
              "[100, 101, 102, 103, 104]"
            ]
          },
          "metadata": {},
          "execution_count": 63
        }
      ],
      "source": [
        "list(range(100, 105))"
      ]
    },
    {
      "cell_type": "code",
      "execution_count": null,
      "metadata": {
        "colab": {
          "base_uri": "https://localhost:8080/"
        },
        "id": "7cGVhf0o9OBa",
        "outputId": "ed114a34-40df-4397-e02e-6153e1381916"
      },
      "outputs": [
        {
          "output_type": "execute_result",
          "data": {
            "text/plain": [
              "[0, 3, 6, 9, 12, 15, 18, 21, 24, 27, 30, 33, 36, 39, 42, 45, 48]"
            ]
          },
          "metadata": {},
          "execution_count": 61
        }
      ],
      "source": [
        "list(range(0, 50, 3))"
      ]
    },
    {
      "cell_type": "code",
      "source": [
        "list(range(100, 80, -5))"
      ],
      "metadata": {
        "colab": {
          "base_uri": "https://localhost:8080/"
        },
        "id": "iJrB_nyirUin",
        "outputId": "04f619a2-3fab-4cfb-af25-ff209639efb7"
      },
      "execution_count": null,
      "outputs": [
        {
          "output_type": "execute_result",
          "data": {
            "text/plain": [
              "[100, 95, 90, 85]"
            ]
          },
          "metadata": {},
          "execution_count": 65
        }
      ]
    },
    {
      "cell_type": "code",
      "execution_count": null,
      "metadata": {
        "colab": {
          "base_uri": "https://localhost:8080/"
        },
        "id": "NySucrFE9OBa",
        "outputId": "d31de612-8f87-42fa-963e-24574af064ae"
      },
      "outputs": [
        {
          "output_type": "execute_result",
          "data": {
            "text/plain": [
              "[-10, 20, 50, 80]"
            ]
          },
          "metadata": {},
          "execution_count": 6
        }
      ],
      "source": [
        "list(range(-10, 101, 30))"
      ]
    },
    {
      "cell_type": "code",
      "execution_count": null,
      "metadata": {
        "colab": {
          "base_uri": "https://localhost:8080/"
        },
        "id": "XF2vWGQb9OBb",
        "outputId": "88bc590b-d4cd-4c2d-e72e-75f5e571ac01"
      },
      "outputs": [
        {
          "output_type": "stream",
          "name": "stdout",
          "text": [
            "0 10\n",
            "1 200\n",
            "2 35\n",
            "3 45\n"
          ]
        }
      ],
      "source": [
        "numbers = [10,200,35,45]\n",
        "for i in range(len(numbers)):\n",
        "    print(i, numbers[i])"
      ]
    },
    {
      "cell_type": "code",
      "execution_count": null,
      "metadata": {
        "colab": {
          "base_uri": "https://localhost:8080/"
        },
        "id": "O4fHt_Qt9OBb",
        "outputId": "8506e63a-d775-4e84-f89b-6e0170ccd62f"
      },
      "outputs": [
        {
          "output_type": "stream",
          "name": "stdout",
          "text": [
            "2, 7, 12, 17, 22, 27, 32, 37, 42, 47, 52, 57, 62, 67, 72, 77, 82, 87, 92, 97, "
          ]
        }
      ],
      "source": [
        "for i in range(2,100,5):\n",
        "    print(i,end=', ')"
      ]
    },
    {
      "cell_type": "markdown",
      "metadata": {
        "id": "_0M3Y1F09OBc"
      },
      "source": [
        "<b>Exercise 2:</b> Print all the even numbers between 0 to 100 using <b>for loop</b> and <b>range</b>."
      ]
    },
    {
      "cell_type": "code",
      "execution_count": null,
      "metadata": {
        "id": "nzKgmsMy9OBc",
        "colab": {
          "base_uri": "https://localhost:8080/"
        },
        "outputId": "b76a8f09-263a-442e-8fa9-ce27b988ec8d"
      },
      "outputs": [
        {
          "output_type": "stream",
          "name": "stdout",
          "text": [
            "Enter start point: 10\n",
            "Enter finsih point: 30\n",
            "Insert your desired range: 3\n",
            "10, 13, 16, 19, 22, 25, 28, "
          ]
        }
      ],
      "source": [
        "# code here\n",
        "strt = int(input('Enter start point: '))\n",
        "fnsh = int(input('Enter finsih point: '))\n",
        "rng = int(input('Insert your desired range: '))\n",
        "for i in range(strt,fnsh,rng):\n",
        "    print(i,end=', ')"
      ]
    },
    {
      "cell_type": "code",
      "execution_count": null,
      "metadata": {
        "colab": {
          "base_uri": "https://localhost:8080/"
        },
        "id": "CxyodY3I9OBd",
        "outputId": "4d18a3a3-2456-4a1f-82cc-034cf8e0915c"
      },
      "outputs": [
        {
          "output_type": "stream",
          "name": "stdout",
          "text": [
            "b a n g l a d e s h "
          ]
        }
      ],
      "source": [
        "country = \"bangladesh\"\n",
        "for index in country:\n",
        "    print(index,end=' ')"
      ]
    },
    {
      "cell_type": "markdown",
      "metadata": {
        "id": "UpWE7Kch9OBd"
      },
      "source": [
        "# Functions\n",
        "<p style=\"text-align: justify\">The keyword def introduces a function definition. It must be followed by the function name and the parenthesized list of formal parameters. The statements that form the body of the function start at the next line, and must be indented.</p>"
      ]
    },
    {
      "cell_type": "code",
      "source": [
        "def operate(a, b):\n",
        "  print(str(a) + ' + ' + str(b) + ' = ' + str(a+b))\n",
        "  print(str(a) + ' - ' + str(b) + ' = ' + str(a-b))\n",
        "  print(str(a) + ' x ' + str(b) + ' = ' + str(a*b))\n",
        "  print(str(a) + ' / ' + str(b) + ' = ' + str(a/b))"
      ],
      "metadata": {
        "id": "YRU1pFyIKR5B"
      },
      "execution_count": null,
      "outputs": []
    },
    {
      "cell_type": "code",
      "source": [
        "operate(1000,625)"
      ],
      "metadata": {
        "colab": {
          "base_uri": "https://localhost:8080/"
        },
        "id": "x-UAfujIK6-k",
        "outputId": "1c73ccb6-18d9-4688-e7c7-066e53ff242c"
      },
      "execution_count": null,
      "outputs": [
        {
          "output_type": "stream",
          "name": "stdout",
          "text": [
            "1000 + 625 = 1625\n",
            "1000 - 625 = 375\n",
            "1000 x 625 = 625000\n",
            "1000 / 625 = 1.6\n"
          ]
        }
      ]
    },
    {
      "cell_type": "code",
      "source": [
        "operate(100,2)"
      ],
      "metadata": {
        "colab": {
          "base_uri": "https://localhost:8080/"
        },
        "id": "6JQoaH0wuuWj",
        "outputId": "d1cf982a-b84e-4bc5-9879-c35e8cc67275"
      },
      "execution_count": null,
      "outputs": [
        {
          "output_type": "stream",
          "name": "stdout",
          "text": [
            "100 + 2 = 102\n",
            "100 - 2 = 98\n",
            "100 x 2 = 200\n",
            "100 / 2 = 50.0\n"
          ]
        }
      ]
    },
    {
      "cell_type": "code",
      "execution_count": null,
      "metadata": {
        "id": "zZaBBUgb9OBd"
      },
      "outputs": [],
      "source": [
        "def fib(n):    # write Fibonacci series up to n\n",
        "    lst = [0,1]\n",
        "    a, b = 0, 1\n",
        "    while True:\n",
        "        #print(a, end=' ')\n",
        "        a, b = b, a+b\n",
        "        if b < n:\n",
        "          lst.append(b)\n",
        "        else:\n",
        "          break\n",
        "        #print()\n",
        "    return lst"
      ]
    },
    {
      "cell_type": "code",
      "execution_count": null,
      "metadata": {
        "colab": {
          "base_uri": "https://localhost:8080/"
        },
        "id": "aFCr3Pc99OBe",
        "outputId": "8b94c0d0-34cb-4201-ffcf-cda69276febb"
      },
      "outputs": [
        {
          "output_type": "stream",
          "name": "stdout",
          "text": [
            "[0, 1, 1, 2, 3, 5, 8, 13, 21, 34, 55, 89, 144, 233, 377, 610, 987]\n"
          ]
        }
      ],
      "source": [
        "# Now call the function we just defined:\n",
        "r = fib(1000)\n",
        "print(r)"
      ]
    },
    {
      "cell_type": "code",
      "execution_count": null,
      "metadata": {
        "id": "_SueK7ww9OBe"
      },
      "outputs": [],
      "source": [
        "# define method\n",
        "def addnumbers(a, b): # add numbers and return result\n",
        "    # logic\n",
        "    c = a + b\n",
        "    return c"
      ]
    },
    {
      "cell_type": "code",
      "source": [
        "addnumbers('2','33')"
      ],
      "metadata": {
        "colab": {
          "base_uri": "https://localhost:8080/",
          "height": 35
        },
        "id": "8fRPogdbzLSI",
        "outputId": "e2b53f7a-1c7f-4c2a-b414-79c83a64fbfe"
      },
      "execution_count": null,
      "outputs": [
        {
          "output_type": "execute_result",
          "data": {
            "text/plain": [
              "'233'"
            ],
            "application/vnd.google.colaboratory.intrinsic+json": {
              "type": "string"
            }
          },
          "metadata": {},
          "execution_count": 102
        }
      ]
    },
    {
      "cell_type": "code",
      "execution_count": null,
      "metadata": {
        "colab": {
          "base_uri": "https://localhost:8080/"
        },
        "id": "WX14lRM59OBe",
        "outputId": "65557f7e-fa42-4908-806f-1a983a9852d8"
      },
      "outputs": [
        {
          "output_type": "stream",
          "name": "stdout",
          "text": [
            "Aritificial Inteligence 9\n"
          ]
        }
      ],
      "source": [
        "y = addnumbers('Aritificial ', 'Inteligence 9') # use or call method\n",
        "print(y)"
      ]
    },
    {
      "cell_type": "code",
      "execution_count": null,
      "metadata": {
        "id": "rVpfHNMo9OBf",
        "outputId": "e1fdfac4-8492-4fdf-9e69-d143417acf81",
        "colab": {
          "base_uri": "https://localhost:8080/"
        }
      },
      "outputs": [
        {
          "output_type": "execute_result",
          "data": {
            "text/plain": [
              "[100, 77, 661]"
            ]
          },
          "metadata": {},
          "execution_count": 128
        }
      ],
      "source": [
        "addnumbers([100,77], [661])"
      ]
    },
    {
      "cell_type": "code",
      "execution_count": null,
      "metadata": {
        "id": "S1xGUH_N9OBf"
      },
      "outputs": [],
      "source": [
        "# add list values\n",
        "def addValues(num):\n",
        "    sum = 0\n",
        "    for n in num:\n",
        "        sum = sum + n\n",
        "    return sum"
      ]
    },
    {
      "cell_type": "code",
      "execution_count": null,
      "metadata": {
        "colab": {
          "base_uri": "https://localhost:8080/"
        },
        "id": "CqJJSRvK9OBf",
        "outputId": "91d00ba4-5f85-45e2-d059-f1dca0e149ec"
      },
      "outputs": [
        {
          "output_type": "execute_result",
          "data": {
            "text/plain": [
              "0"
            ]
          },
          "metadata": {},
          "execution_count": 131
        }
      ],
      "source": [
        "addValues([])"
      ]
    },
    {
      "cell_type": "code",
      "execution_count": null,
      "metadata": {
        "colab": {
          "base_uri": "https://localhost:8080/"
        },
        "id": "XuzxUSRR9OBf",
        "outputId": "fed51060-042e-4024-f4fc-eba6e3c3c642"
      },
      "outputs": [
        {
          "output_type": "execute_result",
          "data": {
            "text/plain": [
              "18"
            ]
          },
          "metadata": {},
          "execution_count": 132
        }
      ],
      "source": [
        "addValues((9,7,5,-3))"
      ]
    },
    {
      "cell_type": "code",
      "execution_count": null,
      "metadata": {
        "id": "egl16dJp9OBg",
        "outputId": "9ca20517-e43b-4b3c-af08-9beb60021a93",
        "colab": {
          "base_uri": "https://localhost:8080/"
        }
      },
      "outputs": [
        {
          "output_type": "execute_result",
          "data": {
            "text/plain": [
              "101"
            ]
          },
          "metadata": {},
          "execution_count": 134
        }
      ],
      "source": [
        "v = [5, 4,12, 7,5,13,15,60,-20]\n",
        "addValues(v)"
      ]
    },
    {
      "cell_type": "code",
      "execution_count": null,
      "metadata": {
        "colab": {
          "base_uri": "https://localhost:8080/"
        },
        "id": "HKIYxiaK9OBg",
        "outputId": "557f0c92-4e71-4fc2-bf88-392a42997d49"
      },
      "outputs": [
        {
          "output_type": "execute_result",
          "data": {
            "text/plain": [
              "86"
            ]
          },
          "metadata": {},
          "execution_count": 130
        }
      ],
      "source": [
        "v = [5, 4,12, 7, 5, 4,12, 7, 5, 4,12, 7,2]\n",
        "addValues(v)"
      ]
    },
    {
      "cell_type": "code",
      "execution_count": null,
      "metadata": {
        "id": "SksLGPeh9OBh"
      },
      "outputs": [],
      "source": [
        "# method/function\n",
        "def multiTable(n, r=20):\n",
        "    for i in range(1,r+1,2):\n",
        "        print(\"{}x{}={}\".format(n,i,n*i))"
      ]
    },
    {
      "cell_type": "code",
      "execution_count": null,
      "metadata": {
        "colab": {
          "base_uri": "https://localhost:8080/"
        },
        "id": "5X6DqTib9OBh",
        "outputId": "552c6389-6716-43a0-b452-02981eb64d7a"
      },
      "outputs": [
        {
          "output_type": "stream",
          "name": "stdout",
          "text": [
            "5x1=5\n",
            "5x3=15\n",
            "5x5=25\n",
            "5x7=35\n",
            "5x9=45\n",
            "5x11=55\n",
            "5x13=65\n",
            "5x15=75\n",
            "5x17=85\n",
            "5x19=95\n"
          ]
        }
      ],
      "source": [
        "multiTable(5)"
      ]
    },
    {
      "cell_type": "code",
      "execution_count": null,
      "metadata": {
        "colab": {
          "base_uri": "https://localhost:8080/"
        },
        "id": "gfyLgPF29OBh",
        "outputId": "65cc4ea0-5065-4b25-c96b-25cf243efd08"
      },
      "outputs": [
        {
          "output_type": "stream",
          "name": "stdout",
          "text": [
            "13x1=13\n",
            "13x3=39\n",
            "13x5=65\n",
            "13x7=91\n",
            "13x9=117\n",
            "13x11=143\n",
            "13x13=169\n",
            "13x15=195\n",
            "13x17=221\n",
            "13x19=247\n"
          ]
        }
      ],
      "source": [
        "\n",
        "multiTable(13)"
      ]
    },
    {
      "cell_type": "markdown",
      "metadata": {
        "id": "ICNPFsDQ9OBh"
      },
      "source": [
        "<b>Exercise 3:</b> Define a <b>method/function</b> which will take two lists of numbers and returns a list (sum of two lists)\n",
        "<p>Example:<br>\n",
        "    Input: [3,4,5,1] and [6,7,2,8]<br>\n",
        "    output: [9,11,7,9]</p>\n"
      ]
    },
    {
      "cell_type": "code",
      "execution_count": null,
      "metadata": {
        "id": "5MPMcHnz9OBi",
        "colab": {
          "base_uri": "https://localhost:8080/"
        },
        "outputId": "ebafb7e9-1a18-4ea5-f03a-4c6cac8f0daa"
      },
      "outputs": [
        {
          "output_type": "stream",
          "name": "stdout",
          "text": [
            "List 1 : [3, 4, 5, 1]\n",
            "List 2 : [6, 7, 2, 8]\n",
            "New list is :[9, 11, 7, 9]\n"
          ]
        }
      ],
      "source": [
        "# code here\n",
        "List1 = [3,4,5,1]\n",
        "List2 = [6,7,2,8]\n",
        "\n",
        "print (\"List 1 : \" + str(List1))\n",
        "print (\"List 2 : \" + str(List2))\n",
        "\n",
        "new_list = []\n",
        "for i in range(0, len(List1)):\n",
        "    new_list.append(List1[i] + List2[i])\n",
        "\n",
        "print (\"New list is :\" + str(new_list))\n"
      ]
    },
    {
      "cell_type": "markdown",
      "metadata": {
        "id": "DSjaC86G9OBi"
      },
      "source": [
        "<b> Exercise 4:</b> Write a <b>method</b> which will take the <b>full name</b> as input and return both the first name and last name.\n",
        "<p>Example:<br>\n",
        "    Input: Arafat Rahman Sunny<br>\n",
        "    Output: First name: Arafat, Last name: Sunny</p>"
      ]
    },
    {
      "cell_type": "code",
      "execution_count": null,
      "metadata": {
        "id": "HCpI48lj9OBi",
        "colab": {
          "base_uri": "https://localhost:8080/"
        },
        "outputId": "4c7fac51-e608-426e-a21a-0b3ed77a5522"
      },
      "outputs": [
        {
          "output_type": "stream",
          "name": "stdout",
          "text": [
            "Enter your name: Akash Moula Choudhury\n",
            "Name: Akash Choudhury\n"
          ]
        }
      ],
      "source": [
        "# code here\n",
        "name = input(\"Enter your name: \")\n",
        "s=name.split()\n",
        "print(\"Name: \"+s[0]+\" \"+s[-1])"
      ]
    },
    {
      "cell_type": "markdown",
      "metadata": {
        "id": "rQ1Zq6Dm9OBj"
      },
      "source": [
        "# Output Formatting (Optional)\n",
        "Go to the [link](https://docs.python.org/3/tutorial/inputoutput.html#formatted-string-literals) and practice the codes below."
      ]
    },
    {
      "cell_type": "code",
      "execution_count": null,
      "metadata": {
        "id": "yFN0SVO29OBj"
      },
      "outputs": [],
      "source": [
        "# code here"
      ]
    }
  ],
  "metadata": {
    "kernelspec": {
      "display_name": "Python 3",
      "language": "python",
      "name": "python3"
    },
    "language_info": {
      "codemirror_mode": {
        "name": "ipython",
        "version": 3
      },
      "file_extension": ".py",
      "mimetype": "text/x-python",
      "name": "python",
      "nbconvert_exporter": "python",
      "pygments_lexer": "ipython3",
      "version": "3.8.5"
    },
    "colab": {
      "provenance": [],
      "include_colab_link": true
    }
  },
  "nbformat": 4,
  "nbformat_minor": 0
}